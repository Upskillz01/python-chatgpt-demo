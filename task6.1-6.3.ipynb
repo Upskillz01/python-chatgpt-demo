{
 "cells": [
  {
   "cell_type": "code",
   "execution_count": 1,
   "metadata": {},
   "outputs": [
    {
     "name": "stdout",
     "output_type": "stream",
     "text": [
      "            Name            Team  Number Position   Age Height  Weight  \\\n",
      "0  Avery Bradley  Boston Celtics     0.0       PG  25.0    6-2   180.0   \n",
      "1    Jae Crowder  Boston Celtics    99.0       SF  25.0    6-6   235.0   \n",
      "2   John Holland  Boston Celtics    30.0       SG  27.0    6-5   205.0   \n",
      "3    R.J. Hunter  Boston Celtics    28.0       SG  22.0    6-5   185.0   \n",
      "4  Jonas Jerebko  Boston Celtics     8.0       PF  29.0   6-10   231.0   \n",
      "\n",
      "             College     Salary  \n",
      "0              Texas  7730337.0  \n",
      "1          Marquette  6796117.0  \n",
      "2  Boston University        NaN  \n",
      "3      Georgia State  1148640.0  \n",
      "4                NaN  5000000.0  \n"
     ]
    }
   ],
   "source": [
    "# import pandas module\n",
    "import pandas as pd\n",
    "\n",
    "# making dataframe\n",
    "df = pd.read_csv(\"https://media.geeksforgeeks.org/wp-content/uploads/nba.csv\")\n",
    "\n",
    "# it was print the first 5-rows\n",
    "print(df.head())\n"
   ]
  },
  {
   "cell_type": "code",
   "execution_count": 3,
   "metadata": {},
   "outputs": [
    {
     "name": "stdout",
     "output_type": "stream",
     "text": [
      "0  Name            Avery Bradley\n",
      "   Team           Boston Celtics\n",
      "   Number                    0.0\n",
      "   Position                   PG\n",
      "   Age                      25.0\n",
      "   Height                    6-2\n",
      "   Weight                  180.0\n",
      "   College                 Texas\n",
      "   Salary              7730337.0\n",
      "1  Name              Jae Crowder\n",
      "   Team           Boston Celtics\n",
      "   Number                   99.0\n",
      "   Position                   SF\n",
      "   Age                      25.0\n",
      "   Height                    6-6\n",
      "   Weight                  235.0\n",
      "   College             Marquette\n",
      "   Salary              6796117.0\n",
      "2  Name             John Holland\n",
      "   Team           Boston Celtics\n",
      "   Number                   30.0\n",
      "   Position                   SG\n",
      "   Age                      27.0\n",
      "   Height                    6-5\n",
      "   Weight                  205.0\n",
      "   College     Boston University\n",
      "dtype: object\n"
     ]
    }
   ],
   "source": [
    "#Task6.1\n",
    "# import pandas module\n",
    "import pandas as pd\n",
    "\n",
    "# making dataframe\n",
    "df = pd.read_csv(\"https://media.geeksforgeeks.org/wp-content/uploads/nba.csv\")\n",
    "\n",
    "\n",
    "# reshape the dataframe using stack() method\n",
    "df_stacked = df.stack()\n",
    "\n",
    "print(df_stacked.head(26))\n"
   ]
  },
  {
   "cell_type": "code",
   "execution_count": 5,
   "metadata": {},
   "outputs": [
    {
     "name": "stdout",
     "output_type": "stream",
     "text": [
      "            Name            Team Number Position   Age Height Weight  \\\n",
      "0  Avery Bradley  Boston Celtics    0.0       PG  25.0    6-2  180.0   \n",
      "1    Jae Crowder  Boston Celtics   99.0       SF  25.0    6-6  235.0   \n",
      "2   John Holland  Boston Celtics   30.0       SG  27.0    6-5  205.0   \n",
      "3    R.J. Hunter  Boston Celtics   28.0       SG  22.0    6-5  185.0   \n",
      "4  Jonas Jerebko  Boston Celtics    8.0       PF  29.0   6-10  231.0   \n",
      "5   Amir Johnson  Boston Celtics   90.0       PF  29.0    6-9  240.0   \n",
      "6  Jordan Mickey  Boston Celtics   55.0       PF  21.0    6-8  235.0   \n",
      "7   Kelly Olynyk  Boston Celtics   41.0        C  25.0    7-0  238.0   \n",
      "8   Terry Rozier  Boston Celtics   12.0       PG  22.0    6-2  190.0   \n",
      "9   Marcus Smart  Boston Celtics   36.0       PG  22.0    6-4  220.0   \n",
      "\n",
      "             College      Salary  \n",
      "0              Texas   7730337.0  \n",
      "1          Marquette   6796117.0  \n",
      "2  Boston University         NaN  \n",
      "3      Georgia State   1148640.0  \n",
      "4                NaN   5000000.0  \n",
      "5                NaN  12000000.0  \n",
      "6                LSU   1170960.0  \n",
      "7            Gonzaga   2165160.0  \n",
      "8         Louisville   1824360.0  \n",
      "9     Oklahoma State   3431040.0  \n"
     ]
    }
   ],
   "source": [
    "#Task 6.2\n",
    "# import pandas module\n",
    "import pandas as pd\n",
    " \n",
    "# making dataframe\n",
    "df = pd.read_csv(\"https://media.geeksforgeeks.org/wp-content/uploads/nba.csv\")\n",
    "\n",
    "# unstack() method\n",
    "df_unstacked = df_stacked.unstack()\n",
    "print(df_unstacked.head(10))\n"
   ]
  },
  {
   "cell_type": "code",
   "execution_count": 6,
   "metadata": {},
   "outputs": [
    {
     "name": "stdout",
     "output_type": "stream",
     "text": [
      "            Name            Team variable value\n",
      "0  Avery Bradley  Boston Celtics   Number   0.0\n",
      "1    Jae Crowder  Boston Celtics   Number  99.0\n",
      "2   John Holland  Boston Celtics   Number  30.0\n",
      "3    R.J. Hunter  Boston Celtics   Number  28.0\n",
      "4  Jonas Jerebko  Boston Celtics   Number   8.0\n",
      "5   Amir Johnson  Boston Celtics   Number  90.0\n",
      "6  Jordan Mickey  Boston Celtics   Number  55.0\n",
      "7   Kelly Olynyk  Boston Celtics   Number  41.0\n",
      "8   Terry Rozier  Boston Celtics   Number  12.0\n",
      "9   Marcus Smart  Boston Celtics   Number  36.0\n"
     ]
    }
   ],
   "source": [
    "#Task 6.3\n",
    "# import pandas module\n",
    "import pandas as pd\n",
    "\n",
    "# making dataframe\n",
    "df = pd.read_csv(\"https://media.geeksforgeeks.org/wp-content/uploads/nba.csv\")\n",
    "\n",
    "\n",
    "# it takes two columns \"Name\" and \"Team\"\n",
    "df_melt = df.melt(id_vars=['Name', 'Team'])\n",
    "print(df_melt.head(10))\n"
   ]
  }
 ],
 "metadata": {
  "kernelspec": {
   "display_name": "training",
   "language": "python",
   "name": "python3"
  },
  "language_info": {
   "codemirror_mode": {
    "name": "ipython",
    "version": 3
   },
   "file_extension": ".py",
   "mimetype": "text/x-python",
   "name": "python",
   "nbconvert_exporter": "python",
   "pygments_lexer": "ipython3",
   "version": "3.9.10"
  }
 },
 "nbformat": 4,
 "nbformat_minor": 2
}
