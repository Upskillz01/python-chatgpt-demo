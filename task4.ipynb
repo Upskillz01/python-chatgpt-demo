{
 "cells": [
  {
   "cell_type": "code",
   "execution_count": 9,
   "metadata": {},
   "outputs": [
    {
     "data": {
      "text/plain": [
       "'C:\\\\Users\\\\sshocc\\\\Documents\\\\PythonChatGPT\\\\training'"
      ]
     },
     "execution_count": 9,
     "metadata": {},
     "output_type": "execute_result"
    }
   ],
   "source": [
    "import os\n",
    "os.chdir(r'C:\\Users\\sshocc\\Documents\\PythonChatGPT\\training') \n",
    "os. getcwd()"
   ]
  },
  {
   "cell_type": "code",
   "execution_count": 12,
   "metadata": {},
   "outputs": [
    {
     "name": "stdout",
     "output_type": "stream",
     "text": [
      "           Store  Employees Flagship\n",
      "0       New York         10    False\n",
      "1  San Francisco         12      NaN\n",
      "2        Chicago          4         \n",
      "3         Boston          5     True\n"
     ]
    }
   ],
   "source": [
    "import pandas as pd\n",
    "import openpyxl\n",
    "#stores_xlsx_path = r'C:\\Users\\sshocc\\Documents\\PythonChatGPT\\training\\stores.xlsx'\n",
    "df = pd.read_excel(\"stores.xlsx\",sheet_name=\"2019\", skiprows=1,usecols=\"B:F\")\n",
    "\n",
    "def fix_missing(x):\n",
    "\n",
    "    return False if x in [\"\", \"MISSING\"] else x\n",
    "\n",
    "df = pd.read_excel(\"stores.xlsx\",sheet_name=\"2019\", skiprows=1,usecols=\"B:F\", converters={\"Flagship\": fix_missing})\n",
    "\n",
    "df = pd.read_excel(\"stores.xlsx\", sheet_name=0,skiprows=2, skipfooter=3,usecols=\"B:C,F\", header=None,names=[\"Branch\", \"Employee_Count\",\"Is_Flagship\"])\n",
    "\n",
    "df = pd.read_excel(\"stores.xlsx\", sheet_name=\"2019\",skiprows=1, usecols=\"B,C,F\",skipfooter=2,na_values=\"MISSING\",keep_default_na=False)\n",
    "\n",
    "print(df)"
   ]
  },
  {
   "cell_type": "code",
   "execution_count": null,
   "metadata": {},
   "outputs": [],
   "source": []
  }
 ],
 "metadata": {
  "kernelspec": {
   "display_name": "training",
   "language": "python",
   "name": "python3"
  },
  "language_info": {
   "codemirror_mode": {
    "name": "ipython",
    "version": 3
   },
   "file_extension": ".py",
   "mimetype": "text/x-python",
   "name": "python",
   "nbconvert_exporter": "python",
   "pygments_lexer": "ipython3",
   "version": "3.9.10"
  }
 },
 "nbformat": 4,
 "nbformat_minor": 2
}
