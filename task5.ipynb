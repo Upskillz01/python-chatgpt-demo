{
 "cells": [
  {
   "cell_type": "code",
   "execution_count": 17,
   "metadata": {},
   "outputs": [
    {
     "name": "stdout",
     "output_type": "stream",
     "text": [
      "2019\n",
      "2020\n",
      "2019-2020\n"
     ]
    },
    {
     "data": {
      "text/plain": [
       "[['Store', 'Employees', 'Manager', 'Since', 'Flagship'],\n",
       " ['New York', 10, 'Sarah', datetime.datetime(2018, 7, 20, 0, 0), False]]"
      ]
     },
     "execution_count": 17,
     "metadata": {},
     "output_type": "execute_result"
    }
   ],
   "source": [
    "#part 1​\n",
    "\n",
    "import pandas as pd\n",
    "\n",
    "import openpyxl\n",
    "\n",
    "import excel\n",
    "\n",
    "import datetime as dt\n",
    "\n",
    "import os\n",
    "os.chdir(r'C:\\Users\\sshocc\\Documents\\PythonChatGPT\\training') \n",
    "os. getcwd()\n",
    "\n",
    "# Open the workbook to read cell values.​\n",
    "\n",
    "# The file is automatically closed again after loading the data.​\n",
    "\n",
    "book = openpyxl.load_workbook(\"stores.xlsx\", data_only=True)\n",
    "\n",
    "# Get a worksheet object by name or index (0-based)​\n",
    "\n",
    "sheet = book[\"2019\"]\n",
    "\n",
    "sheet = book.worksheets[0]\n",
    "\n",
    "# Get a list with all sheet names​\n",
    "\n",
    "book.sheetnames\n",
    "\n",
    "# Loop through the sheet objects.​\n",
    "\n",
    "# Instead of \"name\", openpyxl uses \"title\".​\n",
    "\n",
    "for i in book.worksheets:\n",
    "    print(i.title)\n",
    "\n",
    "# Getting the dimensions,​\n",
    "\n",
    "# i.e., the used range of the sheet​\n",
    "\n",
    "sheet.max_row, sheet.max_column\n",
    "\n",
    "# Read the value of a single cell​\n",
    "\n",
    "# using \"A1\" notation and using cell indices (1-based)​\n",
    "\n",
    "sheet[\"B6\"].value\n",
    "\n",
    "sheet.cell(row=6, column=2).value\n",
    "\n",
    "# Read in a range of cell values by using our excel module​\n",
    "\n",
    "data = excel.read(book[\"2019\"], (2, 2), (8, 6))\n",
    "\n",
    "data[:2]  # Print the first two rows​"
   ]
  },
  {
   "cell_type": "code",
   "execution_count": 16,
   "metadata": {},
   "outputs": [],
   "source": [
    "import os\n",
    "os.chdir(r'C:\\Users\\sshocc\\Documents\\PythonChatGPT\\training') \n",
    "os. getcwd()\n",
    "book = openpyxl.load_workbook(\"stores.xlsx\", data_only=True)"
   ]
  }
 ],
 "metadata": {
  "kernelspec": {
   "display_name": "training",
   "language": "python",
   "name": "python3"
  },
  "language_info": {
   "codemirror_mode": {
    "name": "ipython",
    "version": 3
   },
   "file_extension": ".py",
   "mimetype": "text/x-python",
   "name": "python",
   "nbconvert_exporter": "python",
   "pygments_lexer": "ipython3",
   "version": "3.9.10"
  }
 },
 "nbformat": 4,
 "nbformat_minor": 2
}
